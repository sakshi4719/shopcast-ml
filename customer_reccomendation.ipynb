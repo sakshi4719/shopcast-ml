{
  "nbformat": 4,
  "nbformat_minor": 0,
  "metadata": {
    "colab": {
      "provenance": []
    },
    "kernelspec": {
      "name": "python3",
      "display_name": "Python 3"
    },
    "language_info": {
      "name": "python"
    }
  },
  "cells": [
    {
      "cell_type": "code",
      "execution_count": null,
      "metadata": {
        "id": "82xgMEFxTI2b"
      },
      "outputs": [],
      "source": [
        "import pandas as pd\n",
        "import numpy as np\n",
        "from sklearn.model_selection import train_test_split\n",
        "from sklearn.preprocessing import LabelEncoder, StandardScaler\n",
        "from sklearn.ensemble import RandomForestClassifier\n",
        "from sklearn.metrics import classification_report"
      ]
    },
    {
      "cell_type": "code",
      "source": [
        "df = pd.read_csv(\"/content/lastfinal.csv\")"
      ],
      "metadata": {
        "id": "bn5XY7_gTWzu"
      },
      "execution_count": null,
      "outputs": []
    },
    {
      "cell_type": "code",
      "source": [
        "# @title\n",
        "import numpy as np\n",
        "\n",
        "# Define number of unique customers\n",
        "num_customers = 30000\n",
        "\n",
        "# Generate unique customer IDs\n",
        "customer_ids = [f'C{str(i).zfill(6)}' for i in range(1, num_customers + 1)]\n",
        "\n",
        "# Assign random frequencies (some customers appear multiple times)\n",
        "customer_visits = np.random.choice(range(1, 11), size=num_customers, p=[0.5, 0.2, 0.1, 0.08, 0.05, 0.03, 0.02, 0.01, 0.005, 0.005])\n",
        "\n",
        "# Expand customer list based on visit frequency\n",
        "expanded_customers = np.repeat(customer_ids, customer_visits)\n",
        "\n",
        "# Shuffle and replace existing `customer_id` column\n",
        "df['customer_id'] = np.random.choice(expanded_customers, size=len(df), replace=True)\n",
        "\n",
        "# Check new distribution\n",
        "print(df['customer_id'].value_counts().head(10))  # Print top 10 most frequent customers\n",
        "print(f\"Total unique customers: {df['customer_id'].nunique()}\")\n"
      ],
      "metadata": {
        "colab": {
          "base_uri": "https://localhost:8080/"
        },
        "id": "30CKXpIcWj6f",
        "outputId": "ac91d4c8-746d-4082-9836-bf30dc84dfbe"
      },
      "execution_count": null,
      "outputs": [
        {
          "output_type": "stream",
          "name": "stdout",
          "text": [
            "customer_id\n",
            "C004007    25\n",
            "C007970    24\n",
            "C019252    23\n",
            "C004750    22\n",
            "C005585    22\n",
            "C004876    22\n",
            "C021488    21\n",
            "C028965    21\n",
            "C005119    21\n",
            "C018479    21\n",
            "Name: count, dtype: int64\n",
            "Total unique customers: 26153\n"
          ]
        }
      ]
    },
    {
      "cell_type": "markdown",
      "source": [],
      "metadata": {
        "id": "L5-ICAjzZP0C"
      }
    },
    {
      "cell_type": "code",
      "source": [
        "# Ensure no extra spaces in column names\n",
        "df.columns = df.columns.str.strip()\n",
        "\n",
        "customer_features = df.groupby('customer_id').agg({\n",
        "        'category': lambda x: x.mode()[0],  # Most frequent product category\n",
        "        'invoice_no': 'count',  # Total purchases\n",
        "        'price': ['sum', 'mean'],  # Total and average spending\n",
        "        'quantity': 'mean',  # Average quantity per purchase\n",
        "        'shopping_mall': lambda x: x.mode()[0],  # Most visited mall\n",
        "        }).reset_index()\n",
        "\n",
        "    # Rename columns\n",
        "customer_features.columns = ['customer_id', 'most_frequent_category', 'total_purchases',\n",
        "                                 'total_spending', 'avg_spending', 'avg_quantity', 'most_frequent_mall']\n",
        "\n",
        "    # Merge back with the main dataset\n",
        "df = df.merge(customer_features, on='customer_id', how='left')\n",
        "print(\"Aggregation successful!\")\n"
      ],
      "metadata": {
        "colab": {
          "base_uri": "https://localhost:8080/"
        },
        "id": "GBGaQbJ0ZS3k",
        "outputId": "433cd979-9ad9-4660-b029-261d565b7733"
      },
      "execution_count": null,
      "outputs": [
        {
          "output_type": "stream",
          "name": "stdout",
          "text": [
            "Aggregation successful!\n"
          ]
        }
      ]
    },
    {
      "cell_type": "code",
      "source": [
        "from sklearn.preprocessing import LabelEncoder\n",
        "\n",
        "# Encode categorical features\n",
        "label_enc = LabelEncoder()\n",
        "df['most_frequent_category'] = label_enc.fit_transform(df['most_frequent_category'])\n",
        "df['most_frequent_mall'] = label_enc.fit_transform(df['most_frequent_mall'])\n",
        "df['payment_method'] = label_enc.fit_transform(df['payment_method'])\n",
        "df['gender'] = label_enc.fit_transform(df['gender'])\n",
        "df['shopping_mall'] = label_enc.fit_transform(df['shopping_mall'])\n",
        "df['category'] = label_enc.fit_transform(df['category'])\n",
        "df['product_name'] = label_enc.fit_transform(df['product_name'])"
      ],
      "metadata": {
        "id": "ZZJf0f8xSd0S"
      },
      "execution_count": null,
      "outputs": []
    },
    {
      "cell_type": "code",
      "source": [
        "from sklearn.model_selection import train_test_split\n",
        "from sklearn.ensemble import RandomForestClassifier\n",
        "from sklearn.metrics import classification_report\n",
        "\n",
        "# Define features & target\n",
        "X = df.drop(columns=['product_name', 'invoice_date', 'invoice_no', 'customer_id'])  # Drop non-informative columns\n",
        "y = df['product_name']  # Target variable\n",
        "\n",
        "# Split dataset\n",
        "X_train, X_test, y_train, y_test = train_test_split(X, y, test_size=0.2, random_state=42, stratify=y)\n",
        "\n",
        "# Train model using Decision Tree\n",
        "model = RandomForestClassifier(n_estimators=50, random_state=1)  # 100 trees for better accuracymodel.fit(X_train, y_train)\n",
        "model.fit(X_train, y_train)\n",
        "# Predict\n",
        "y_pred = model.predict(X_test)\n",
        "\n",
        "# Evaluate\n",
        "print(classification_report(y_test, y_pred))"
      ],
      "metadata": {
        "colab": {
          "base_uri": "https://localhost:8080/"
        },
        "id": "yR6qYMrLSf40",
        "outputId": "b9b70d21-bfff-48ec-e9f2-695cbb0d7871"
      },
      "execution_count": null,
      "outputs": [
        {
          "output_type": "stream",
          "name": "stdout",
          "text": [
            "              precision    recall  f1-score   support\n",
            "\n",
            "           0       0.22      0.24      0.23       399\n",
            "           1       0.22      0.25      0.24       416\n",
            "           2       0.19      0.22      0.21       603\n",
            "           3       0.18      0.19      0.19       572\n",
            "           4       0.19      0.17      0.18       600\n",
            "           5       0.25      0.25      0.25       404\n",
            "           6       0.18      0.20      0.19      1376\n",
            "           7       0.21      0.19      0.20       197\n",
            "           8       0.19      0.17      0.18       582\n",
            "           9       0.19      0.19      0.19       581\n",
            "          10       0.21      0.24      0.22       608\n",
            "          11       0.26      0.30      0.28       246\n",
            "          12       0.25      0.25      0.25       495\n",
            "          13       0.20      0.20      0.20       607\n",
            "          14       0.20      0.21      0.20       199\n",
            "          15       0.22      0.22      0.22       246\n",
            "          16       0.20      0.20      0.20      1373\n",
            "          17       0.19      0.20      0.20      1386\n",
            "          18       0.21      0.20      0.20       598\n",
            "          19       0.16      0.18      0.17       202\n",
            "          20       0.21      0.20      0.21       407\n",
            "          21       0.21      0.19      0.20       601\n",
            "          22       0.18      0.18      0.18       194\n",
            "          23       0.21      0.21      0.21       251\n",
            "          24       0.22      0.20      0.21       623\n",
            "          25       0.21      0.21      0.21       206\n",
            "          26       0.20      0.16      0.18       392\n",
            "          27       0.26      0.29      0.27       506\n",
            "          28       0.27      0.27      0.27       507\n",
            "          29       0.25      0.22      0.24       253\n",
            "          30       0.19      0.21      0.20       206\n",
            "          31       0.26      0.23      0.24       499\n",
            "          32       0.24      0.24      0.24       198\n",
            "          33       0.19      0.19      0.19      1379\n",
            "          34       0.21      0.20      0.20       199\n",
            "          35       0.21      0.18      0.20      1384\n",
            "          36       0.22      0.20      0.21       196\n",
            "          37       0.17      0.16      0.17       201\n",
            "\n",
            "    accuracy                           0.21     19892\n",
            "   macro avg       0.21      0.21      0.21     19892\n",
            "weighted avg       0.21      0.21      0.21     19892\n",
            "\n"
          ]
        }
      ]
    },
    {
      "cell_type": "code",
      "source": [
        "print(y_test)"
      ],
      "metadata": {
        "colab": {
          "base_uri": "https://localhost:8080/"
        },
        "id": "xYDDYXGsqQgi",
        "outputId": "61972dcc-5bbe-4cea-8231-444beedef7f1"
      },
      "execution_count": null,
      "outputs": [
        {
          "output_type": "stream",
          "name": "stdout",
          "text": [
            "21506    35\n",
            "83670     6\n",
            "73336     6\n",
            "52115    18\n",
            "86010    10\n",
            "         ..\n",
            "35102     2\n",
            "12526    10\n",
            "17439     6\n",
            "88082    18\n",
            "65839    33\n",
            "Name: product_name, Length: 19892, dtype: int64\n"
          ]
        }
      ]
    },
    {
      "cell_type": "code",
      "source": [
        "print(y_pred)"
      ],
      "metadata": {
        "colab": {
          "base_uri": "https://localhost:8080/"
        },
        "id": "LU0Qef6bqQZ_",
        "outputId": "9646c8f4-8121-47b3-80a1-4a7fafce6cee"
      },
      "execution_count": null,
      "outputs": [
        {
          "output_type": "stream",
          "name": "stdout",
          "text": [
            "[35 33 35 ...  6  2 16]\n"
          ]
        }
      ]
    },
    {
      "cell_type": "code",
      "source": [
        "# Convert predictions back to original product names\n",
        "y_pred_labels = product_encoder.inverse_transform(y_pred)\n",
        "y_test_labels = product_encoder.inverse_transform(y_test)\n",
        "\n",
        "# Extract corresponding customer IDs from the test dataset\n",
        "customer_ids_test = df.loc[y_test.index, 'customer_id'].values  # Get actual customer IDs\n",
        "\n",
        "# Create a DataFrame with customer_id, actual product, and predicted product\n",
        "results_df = pd.DataFrame({\n",
        "    'Customer_ID': customer_ids_test,\n",
        "    'Actual_Product': y_test_labels,\n",
        "    'Predicted_Product': y_pred_labels\n",
        "})\n",
        "\n",
        "# Display the first few rows\n",
        "print(results_df.head(10))  # Show first 10 rows\n",
        "\n",
        "# Evaluate performance\n",
        "print(classification_report(y_test, y_pred))"
      ],
      "metadata": {
        "colab": {
          "base_uri": "https://localhost:8080/"
        },
        "id": "GnmHICyYsgbl",
        "outputId": "0115fca5-e580-483b-e836-81a142edf2b1"
      },
      "execution_count": null,
      "outputs": [
        {
          "output_type": "stream",
          "name": "stdout",
          "text": [
            "  Customer_ID Actual_Product Predicted_Product\n",
            "0     C018563        T-shirt           T-shirt\n",
            "1     C013578          Dress           Sweater\n",
            "2     C022117          Dress           T-shirt\n",
            "3     C024087          Juice             Chips\n",
            "4     C025193     Face Cream          Lipstick\n",
            "5     C026012         Jacket             Jeans\n",
            "6     C015901     Snow Globe          Keychain\n",
            "7     C027232          Chips             Juice\n",
            "8     C012771   Formal Shoes          Sneakers\n",
            "9     C005783         Jacket           T-shirt\n",
            "              precision    recall  f1-score   support\n",
            "\n",
            "           0       0.19      0.20      0.19       399\n",
            "           1       0.20      0.20      0.20       416\n",
            "           2       0.22      0.21      0.22       603\n",
            "           3       0.19      0.19      0.19       572\n",
            "           4       0.18      0.18      0.18       600\n",
            "           5       0.21      0.20      0.21       404\n",
            "           6       0.20      0.21      0.21      1376\n",
            "           7       0.21      0.19      0.20       197\n",
            "           8       0.21      0.22      0.22       582\n",
            "           9       0.19      0.18      0.19       581\n",
            "          10       0.20      0.18      0.19       608\n",
            "          11       0.18      0.19      0.19       246\n",
            "          12       0.27      0.28      0.27       495\n",
            "          13       0.22      0.22      0.22       607\n",
            "          14       0.20      0.22      0.21       199\n",
            "          15       0.24      0.22      0.23       246\n",
            "          16       0.20      0.20      0.20      1373\n",
            "          17       0.20      0.19      0.19      1386\n",
            "          18       0.20      0.20      0.20       598\n",
            "          19       0.19      0.18      0.18       202\n",
            "          20       0.19      0.18      0.18       407\n",
            "          21       0.20      0.21      0.20       601\n",
            "          22       0.18      0.20      0.19       194\n",
            "          23       0.25      0.27      0.26       251\n",
            "          24       0.20      0.20      0.20       623\n",
            "          25       0.17      0.17      0.17       206\n",
            "          26       0.18      0.18      0.18       392\n",
            "          27       0.23      0.24      0.23       506\n",
            "          28       0.29      0.27      0.28       507\n",
            "          29       0.25      0.24      0.24       253\n",
            "          30       0.19      0.18      0.19       206\n",
            "          31       0.25      0.23      0.24       499\n",
            "          32       0.18      0.19      0.18       198\n",
            "          33       0.20      0.20      0.20      1379\n",
            "          34       0.19      0.18      0.19       199\n",
            "          35       0.21      0.20      0.20      1384\n",
            "          36       0.19      0.20      0.19       196\n",
            "          37       0.22      0.22      0.22       201\n",
            "\n",
            "    accuracy                           0.21     19892\n",
            "   macro avg       0.21      0.21      0.21     19892\n",
            "weighted avg       0.21      0.21      0.21     19892\n",
            "\n"
          ]
        }
      ]
    },
    {
      "cell_type": "code",
      "source": [],
      "metadata": {
        "id": "oqCb1XNAt3bC"
      },
      "execution_count": null,
      "outputs": []
    }
  ]
}